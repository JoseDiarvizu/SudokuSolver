{
  "nbformat": 4,
  "nbformat_minor": 0,
  "metadata": {
    "colab": {
      "provenance": []
    },
    "kernelspec": {
      "name": "python3",
      "display_name": "Python 3"
    },
    "language_info": {
      "name": "python"
    }
  },
  "cells": [
    {
      "cell_type": "code",
      "metadata": {
        "id": "ZEjhX0WqmM7W"
      },
      "source": [
        "import numpy as np\n",
        "import random"
      ],
      "execution_count": null,
      "outputs": []
    },
    {
      "cell_type": "code",
      "metadata": {
        "id": "WXBW1ojAk-8W"
      },
      "source": [
        "def gen_population(N,sudoku):\n",
        "  missingNumbers = []\n",
        "  for i in range(len(sudoku)):\n",
        "    missingNumbers.append([])\n",
        "    for j in range(len(sudoku[0])+1):\n",
        "      if j not in sudoku[i]:\n",
        "        missingNumbers[i].append(j)\n",
        "  copy = np.copy(missingNumbers)\n",
        "\n",
        "  population = []\n",
        "  for i in range(N):\n",
        "    population.append([])\n",
        "    for j in range(len(copy)):\n",
        "      population[i].append(np.random.permutation(copy[j]))\n",
        "  \n",
        "  return np.array(population) \n",
        "\n"
      ],
      "execution_count": null,
      "outputs": []
    },
    {
      "cell_type": "code",
      "metadata": {
        "id": "8SMDW0PhpbCm"
      },
      "source": [
        "def get_fitness(individuo,coordinates,sudoku,maxError):\n",
        "  errorCount = 0\n",
        "  sudokuCopy = np.copy(sudoku)\n",
        " \n",
        "  for i in range(len(coordinates)):\n",
        "    for j in range(len(coordinates[i])):\n",
        "      sudokuCopy[i][coordinates[i][j]] = individuo[i][j]\n",
        "\n",
        "  for i in range(len(coordinates)):\n",
        "    for j in range(len(coordinates[i])):\n",
        "      #print(coordinates[i][j])\n",
        "      sudokuCopy[i][coordinates[i][j]] = 0\n",
        "      iCuadrante = int(i/3) * 3\n",
        "      jCuadrante = int(coordinates[i][j]/3) * 3\n",
        "      if individuo[i][j] in sudokuCopy[:,coordinates[i][j]] or individuo[i][j] in sudokuCopy[iCuadrante:iCuadrante+3,jCuadrante:jCuadrante+3]:\n",
        "        errorCount+=1\n",
        "      sudokuCopy[i][coordinates[i][j]] = individuo[i][j]\n",
        "  return (maxError - errorCount) + 1\n",
        "      \n",
        "\n",
        "              \n",
        "        \n"
      ],
      "execution_count": null,
      "outputs": []
    },
    {
      "cell_type": "code",
      "metadata": {
        "id": "DtztkQlrHDmy"
      },
      "source": [
        "def get_coordinates(sudoku):\n",
        "  coordinates = []\n",
        "  maxError = 0\n",
        "  for i in range(len(sudoku)):\n",
        "    coordinates.append([])\n",
        "    for j in range(len(sudoku[0])):\n",
        "      if sudoku[i][j] == 0:\n",
        "        maxError+=1\n",
        "        coordinates[i].append(j)\n",
        "  \n",
        "  return coordinates,maxError\n",
        "\n"
      ],
      "execution_count": null,
      "outputs": []
    },
    {
      "cell_type": "code",
      "metadata": {
        "id": "Vme-IsjwY-lE"
      },
      "source": [
        "def get_elite(fitness,population):\n",
        "  max = -1\n",
        "  newElite = np.zeros_like(population[0])\n",
        "  maxIndex = 0\n",
        "  for i in range(len(fitness)):\n",
        "    if fitness[i]>max:\n",
        "      max = fitness[i]\n",
        "      maxIndex = i\n",
        "  return max, population[maxIndex]"
      ],
      "execution_count": null,
      "outputs": []
    },
    {
      "cell_type": "code",
      "metadata": {
        "id": "7Y9UJnMLsEt2"
      },
      "source": [
        "def get_worst(fitness,population,maxFit):\n",
        "  max = maxFit \n",
        "  maxIndex = 0\n",
        "  for i in range(len(fitness)):\n",
        "    if fitness[i]<max:\n",
        "      max = fitness[i]\n",
        "      maxIndex = i\n",
        "  return maxIndex"
      ],
      "execution_count": null,
      "outputs": []
    },
    {
      "cell_type": "code",
      "metadata": {
        "id": "v09HsdToZlB3"
      },
      "source": [
        "def get_parents(fitness, population):\n",
        "  fitSum = np.sum(fitness)\n",
        "  proportions = fitness/fitSum\n",
        "  #print(proportions)\n",
        "  #print(fitness)\n",
        "  ranges = np.zeros((len(fitness),2))\n",
        "  startIndex = 0\n",
        "  for i in range(len(fitness)):\n",
        "    ranges[i][0] = startIndex\n",
        "    ranges[i][1] = startIndex + proportions[i]\n",
        "    startIndex+=proportions[i]\n",
        "  #print(ranges)\n",
        "\n",
        "  newPopulation = np.zeros_like((population))\n",
        "  for i in range(len(fitness)):\n",
        "    randomN = random.random()\n",
        "    for j in range(len(fitness)):\n",
        "      if randomN > ranges[j][0] and randomN < ranges[j][1]:\n",
        "        newPopulation[i] = np.copy(population[j])\n",
        "  \n",
        "  return newPopulation"
      ],
      "execution_count": null,
      "outputs": []
    },
    {
      "cell_type": "code",
      "metadata": {
        "id": "Log4AIKC2X5W"
      },
      "source": [
        "def get_crossover(population,N,Pr):\n",
        "  newPopulation = np.copy(population)\n",
        "  for i in range(N):\n",
        "    if random.random() < Pr:\n",
        "      parent1,parent2 = newPopulation[np.random.randint(N)],newPopulation[np.random.randint(N)]\n",
        "      cont = 0\n",
        "      for p1,p2 in zip(parent1,parent2):\n",
        "        son = np.zeros_like(p1)\n",
        "        if len(p1) < 4:\n",
        "          son = p1\n",
        "        else:\n",
        "          parentLenght = len(p1)\n",
        "          corte1 = np.random.randint(1,parentLenght-1)\n",
        "          corte2 = np.random.randint(corte1,parentLenght)\n",
        "          son[corte1:corte2] = p1[corte1:corte2]\n",
        "\n",
        "          for j in range(corte1):\n",
        "            if p2[j] not in son:\n",
        "              son[j] = p2[j]\n",
        "          for j in range(corte2,parentLenght):\n",
        "            if p2[j] not in son:\n",
        "              son[j] = p2[j]\n",
        "          \n",
        "          for j in range(parentLenght):\n",
        "            if son[j] == 0:\n",
        "              for k in range(parentLenght):\n",
        "                if p2[k] not in son and son[j]==0:\n",
        "                  son[j] = p2[k]\n",
        "        newPopulation[i][cont] = son\n",
        "        cont+=1\n",
        "\n",
        "  return newPopulation"
      ],
      "execution_count": null,
      "outputs": []
    },
    {
      "cell_type": "code",
      "metadata": {
        "id": "6565Kxu6oCnz"
      },
      "source": [
        "def get_mutation(population,Pm):\n",
        "  newPopulation = np.copy(population)\n",
        "  N = len(newPopulation)\n",
        "  for i in range(N):\n",
        "    for j in range(len(newPopulation[i])):\n",
        "      if random.random() < Pm:\n",
        "        random1,random2 = np.random.randint(0,len(newPopulation[i][j])),np.random.randint(0,len(newPopulation[i][j]))\n",
        "        newPopulation[i][j][random1],newPopulation[i][j][random2] = newPopulation[i][j][random2],newPopulation[i][j][random1]\n",
        "  return newPopulation\n"
      ],
      "execution_count": null,
      "outputs": []
    },
    {
      "cell_type": "code",
      "metadata": {
        "id": "fj7dJbBrYEcI"
      },
      "source": [
        "def gen_algorithm(N,G,Pr,Pm,sudoku):\n",
        "  Gk = 0\n",
        "  #print(\"Initial pop\")\n",
        "  population = gen_population(N,sudoku)\n",
        "  #print(population)\n",
        "  coordinates,maxError = get_coordinates(sudoku)\n",
        "  #print(coordinates,maxError)\n",
        "  fitness = []\n",
        "  for i in population:\n",
        "    fitness.append(get_fitness(i,coordinates,sudoku,maxError))\n",
        "  elite = get_elite(fitness,population)\n",
        "\n",
        "  while Gk < G or elite[0] != maxError + 1:\n",
        "    #print(\"Parents\")\n",
        "    fitness = []\n",
        "    for i in population:\n",
        "      fitness.append(get_fitness(i,coordinates,sudoku,maxError))\n",
        "    population = np.copy(get_parents(fitness,population))\n",
        "    #print(population)\n",
        "  \n",
        "    #print(\"Antes de crossover\")\n",
        "    #print(population[:,2])\n",
        "    population = np.copy(get_crossover(population,N,Pr))\n",
        "    '''\n",
        "    print(\"Crossover\")\n",
        "    print(population[:,2])\n",
        "    '''\n",
        "    #print(\"before elite\",get_fitness(elite[1],coordinates,sudoku,maxError))\n",
        "    \n",
        "    aux = np.zeros_like(elite[1])\n",
        "    for i in range(len(aux)):\n",
        "      aux[i] = np.copy(np.array(elite[1][i]))\n",
        "    elite = (elite[0],aux)\n",
        "    \n",
        "    population = np.copy(get_mutation(population,Pm))\n",
        "    '''\n",
        "    print(\"Mutation\")\n",
        "    print(population[:,2])\n",
        "    '''\n",
        "    \n",
        "    fitness = []\n",
        "    for i in population:\n",
        "      fitness.append(get_fitness(i,coordinates,sudoku,maxError))\n",
        "    \n",
        "    newElite = get_elite(fitness,population)\n",
        "    if newElite[0] > elite[0]:\n",
        "      elite= newElite[0],newElite[1]\n",
        "    else:\n",
        "      worst = get_worst(fitness,population,maxError+1)\n",
        "      best = np.array(elite[1])\n",
        "      population[worst] = np.copy(best)\n",
        "    #print(\"Elite\", elite[0],elite[1])\n",
        "    #print(\"New Elite\",newElite[0],newElite[1])\n",
        "    #print(\"Final elite\",get_fitness(elite[1],coordinates,sudoku,maxError))\n",
        "    Gk+=1\n",
        "    if(Gk%100==0):\n",
        "      print(elite[0])\n",
        "  \n",
        "  return elite"
      ],
      "execution_count": null,
      "outputs": []
    },
    {
      "cell_type": "code",
      "metadata": {
        "colab": {
          "base_uri": "https://localhost:8080/"
        },
        "id": "KdW7XbIGb6I6",
        "outputId": "e7151f7c-84dd-4d33-87e9-7eb6f43807a1"
      },
      "source": [
        "'''M = [[9,6,0,1,0,4,0,5,8],\n",
        "\n",
        " [0,7,8,3,2,5,6,0,9],\n",
        "\n",
        " [2,5,0,6,0,0,7,0,1],\n",
        "\n",
        " [8,0,1,4,0,7,5,0,6],\n",
        "\n",
        " [0,9,6,0,0,2,3,0,7],\n",
        "\n",
        " [7,0,5,9,6,1,0,2,4],\n",
        "\n",
        " [5,0,0,7,1,0,4,6,2],\n",
        "\n",
        " [3,1,7,2,0,6,9,0,0],\n",
        "\n",
        " [0,4,0,5,0,8,0,7,3]]\n",
        "\n",
        "#SUDOKU DE PRUEBA\n",
        "\n",
        "M = [[2,3,0,0,8,9,0,0,0],\n",
        "     [1,8,6,0,7,3,0,0,4],\n",
        "     [4,9,7,2,6,1,0,3,5],\n",
        "     [7,6,0,0,0,0,0,9,0],\n",
        "     [9,5,2,6,0,4,0,7,8],\n",
        "     [0,4,0,0,9,0,1,0,0],\n",
        "     [0,0,0,0,5,0,2,0,3],\n",
        "     [8,0,3,1,2,6,0,4,9],\n",
        "     [0,2,0,3,4,8,6,0,0]]\n",
        "'''\n",
        "\n",
        "M = [[5,3,4,6,7,8,9,1,2],\n",
        "\n",
        " [6,7,2,1,9,5,3,4,8],\n",
        "\n",
        " [1,9,8,3,4,2,5,6,7],\n",
        "\n",
        " [8,5,9,7,6,1,4,2,3],\n",
        "\n",
        " [4,2,6,8,5,3,7,9,1],\n",
        "\n",
        " [7,1,3,9,2,4,8,5,6],\n",
        "\n",
        " [9,6,1,5,3,7,2,8,4],\n",
        "\n",
        " [2,8,7,4,1,9,6,3,5],\n",
        "\n",
        " [0,4,5,2,8,6,1,7,0]]\n",
        "\n",
        "M = np.array(M)\n",
        "\n",
        "solution = gen_algorithm(30,1000,0.8,0.3,M) \n",
        "print(\"FITNESS:\",solution[0])\n",
        "print(\"----FINAL SOLUTION----\")\n",
        "print(solution[1])\n",
        "coordinates,_ = get_coordinates(M)\n",
        "mCopy = np.copy(M)\n",
        "for i in range(len(coordinates)):\n",
        "  for j in range(len(coordinates[i])):\n",
        "    mCopy[i][coordinates[i][j]] = solution[1][i][j]\n",
        "\n",
        "print(\"----SOLVED SUDOKU----\")\n",
        "printSudoku(mCopy)\n"
      ],
      "execution_count": null,
      "outputs": [
        {
          "output_type": "stream",
          "name": "stderr",
          "text": [
            "/usr/local/lib/python3.7/dist-packages/numpy/lib/function_base.py:792: VisibleDeprecationWarning: Creating an ndarray from ragged nested sequences (which is a list-or-tuple of lists-or-tuples-or ndarrays with different lengths or shapes) is deprecated. If you meant to do this, you must specify 'dtype=object' when creating the ndarray\n",
            "  return array(a, order=order, subok=subok, copy=True)\n",
            "/usr/local/lib/python3.7/dist-packages/ipykernel_launcher.py:16: VisibleDeprecationWarning: Creating an ndarray from ragged nested sequences (which is a list-or-tuple of lists-or-tuples-or ndarrays with different lengths or shapes) is deprecated. If you meant to do this, you must specify 'dtype=object' when creating the ndarray\n",
            "  app.launch_new_instance()\n"
          ]
        },
        {
          "output_type": "stream",
          "name": "stdout",
          "text": [
            "3\n",
            "3\n",
            "3\n",
            "3\n",
            "3\n",
            "3\n",
            "3\n",
            "3\n",
            "3\n",
            "3\n",
            "FITNESS: 3\n",
            "----FINAL SOLUTION----\n",
            "[array([0]) array([0]) array([0]) array([0]) array([0]) array([0])\n",
            " array([0]) array([0]) array([3, 9])]\n",
            "----SOLVED SUDOKU----\n",
            "5 | 3 | 4 | 6 | 7 | 8 | 9 | 1 | 2 | \n",
            "----------------------------------\n",
            "6 | 7 | 2 | 1 | 9 | 5 | 3 | 4 | 8 | \n",
            "----------------------------------\n",
            "1 | 9 | 8 | 3 | 4 | 2 | 5 | 6 | 7 | \n",
            "----------------------------------\n",
            "8 | 5 | 9 | 7 | 6 | 1 | 4 | 2 | 3 | \n",
            "----------------------------------\n",
            "4 | 2 | 6 | 8 | 5 | 3 | 7 | 9 | 1 | \n",
            "----------------------------------\n",
            "7 | 1 | 3 | 9 | 2 | 4 | 8 | 5 | 6 | \n",
            "----------------------------------\n",
            "9 | 6 | 1 | 5 | 3 | 7 | 2 | 8 | 4 | \n",
            "----------------------------------\n",
            "2 | 8 | 7 | 4 | 1 | 9 | 6 | 3 | 5 | \n",
            "----------------------------------\n",
            "3 | 4 | 5 | 2 | 8 | 6 | 1 | 7 | 9 | \n",
            "----------------------------------\n"
          ]
        }
      ]
    },
    {
      "cell_type": "code",
      "metadata": {
        "id": "iN72Mc1GpsUm"
      },
      "source": [
        "def printSudoku(sudoku):\n",
        "  for i in range(len(sudoku)):\n",
        "    for j in range(len(sudoku[i])):\n",
        "      print(sudoku[i][j],end=\" | \")\n",
        "    print()\n",
        "    print(\"----------------------------------\")\n"
      ],
      "execution_count": null,
      "outputs": []
    },
    {
      "cell_type": "markdown",
      "metadata": {
        "id": "j6uxP8E3tubF"
      },
      "source": [
        "# Descripción del proyecto"
      ]
    },
    {
      "cell_type": "markdown",
      "metadata": {
        "id": "cbyol9Kqt6QS"
      },
      "source": [
        "**Representación individual**: **texto en negrita** Los individuos están conformados por los números faltantes de cada fila.\n",
        "\n",
        "**Selección de padres:** La selección de los padres se implentó por el método de la ruleta, generando los rangos para poder llevar a cabo este proceso\n",
        "\n",
        "**Crossover:** Decidí utilizar la Partially mapped crossover ya que se estuvieron utilizando permutaciones. Este proceso lo repetía para cada fila, ya que de otra manera se hubieran sobrescrito los tamaños originales de los individuos.\n",
        "\n",
        "**Mutation:** La mutación fue un simple swap ente dos posiciones aleatorias de una fila.\n",
        "\n",
        "\n"
      ]
    }
  ]
}